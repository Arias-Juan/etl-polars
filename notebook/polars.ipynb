{
 "cells": [
  {
   "cell_type": "code",
   "execution_count": 2,
   "metadata": {},
   "outputs": [],
   "source": [
    "import polars as pl"
   ]
  },
  {
   "cell_type": "code",
   "execution_count": 5,
   "metadata": {},
   "outputs": [
    {
     "name": "stdout",
     "output_type": "stream",
     "text": [
      "shape: (3_173, 10)\n",
      "┌─────────────┬────────┬──────┬─────────────┬───┬────────────┬───────────┬────────────┬────────────┐\n",
      "│ Title       ┆ IMDb   ┆ Year ┆ Certificate ┆ … ┆ Star Cast  ┆ MetaScore ┆ Poster-src ┆ Duration   │\n",
      "│ ---         ┆ Rating ┆ ---  ┆ s           ┆   ┆ ---        ┆ ---       ┆ ---        ┆ (minutes)  │\n",
      "│ str         ┆ ---    ┆ i64  ┆ ---         ┆   ┆ str        ┆ f64       ┆ str        ┆ ---        │\n",
      "│             ┆ f64    ┆      ┆ str         ┆   ┆            ┆           ┆            ┆ f64        │\n",
      "╞═════════════╪════════╪══════╪═════════════╪═══╪════════════╪═══════════╪════════════╪════════════╡\n",
      "│ End of the  ┆ 6.8    ┆ 2005 ┆ PG-13       ┆ … ┆ Louie Leon ┆ 45.0      ┆ https://m. ┆ 108.0      │\n",
      "│ Spear       ┆        ┆      ┆             ┆   ┆ ardoChad   ┆           ┆ media-amaz ┆            │\n",
      "│             ┆        ┆      ┆             ┆   ┆ AllenJack  ┆           ┆ on.com/ima ┆            │\n",
      "│             ┆        ┆      ┆             ┆   ┆ G…         ┆           ┆ …          ┆            │\n",
      "│ Elvira      ┆ 7.0    ┆ 1967 ┆ PG          ┆ … ┆ Pia Degerm ┆ 66.0      ┆ https://m. ┆ 91.0       │\n",
      "│ Madigan     ┆        ┆      ┆             ┆   ┆ arkThommy  ┆           ┆ media-amaz ┆            │\n",
      "│             ┆        ┆      ┆             ┆   ┆ BerggrenLe ┆           ┆ on.com/ima ┆            │\n",
      "│             ┆        ┆      ┆             ┆   ┆ …          ┆           ┆ …          ┆            │\n",
      "│ The Kid     ┆ 7.3    ┆ 2002 ┆ R           ┆ … ┆ Robert     ┆ 75.0      ┆ https://m. ┆ 93.0       │\n",
      "│ Stays in    ┆        ┆      ┆             ┆   ┆ EvansEddie ┆           ┆ media-amaz ┆            │\n",
      "│ the Picture ┆        ┆      ┆             ┆   ┆ AlbertPete ┆           ┆ on.com/ima ┆            │\n",
      "│             ┆        ┆      ┆             ┆   ┆ r …        ┆           ┆ …          ┆            │\n",
      "│ It Ain't    ┆ 8.2    ┆ 2022 ┆ PG          ┆ … ┆ Andy Andre ┆ 79.0      ┆ https://m. ┆ 99.0       │\n",
      "│ Over        ┆        ┆      ┆             ┆   ┆ sRoger Ang ┆           ┆ media-amaz ┆            │\n",
      "│             ┆        ┆      ┆             ┆   ┆ ellMarty   ┆           ┆ on.com/ima ┆            │\n",
      "│             ┆        ┆      ┆             ┆   ┆ A…         ┆           ┆ …          ┆            │\n",
      "│ Mahler      ┆ 7.0    ┆ 1974 ┆ PG          ┆ … ┆ Robert Pow ┆ 66.0      ┆ https://m. ┆ 115.0      │\n",
      "│             ┆        ┆      ┆             ┆   ┆ ellGeorgin ┆           ┆ media-amaz ┆            │\n",
      "│             ┆        ┆      ┆             ┆   ┆ a HaleLee  ┆           ┆ on.com/ima ┆            │\n",
      "│             ┆        ┆      ┆             ┆   ┆ …          ┆           ┆ …          ┆            │\n",
      "│ …           ┆ …      ┆ …    ┆ …           ┆ … ┆ …          ┆ …         ┆ …          ┆ …          │\n",
      "│ The Lord of ┆ 9.0    ┆ 2003 ┆ PG-13       ┆ … ┆ J.R.R. Tol ┆ 94.0      ┆ https://m. ┆ 201.0      │\n",
      "│ the Rings:  ┆        ┆      ┆             ┆   ┆ kienFran   ┆           ┆ media-amaz ┆            │\n",
      "│ The Ret…    ┆        ┆      ┆             ┆   ┆ WalshPhili ┆           ┆ on.com/ima ┆            │\n",
      "│             ┆        ┆      ┆             ┆   ┆ p…         ┆           ┆ …          ┆            │\n",
      "│ Schindler's ┆ 9.0    ┆ 1993 ┆ R           ┆ … ┆ Liam Neeso ┆ 95.0      ┆ https://m. ┆ 195.0      │\n",
      "│ List        ┆        ┆      ┆             ┆   ┆ nRalph     ┆           ┆ media-amaz ┆            │\n",
      "│             ┆        ┆      ┆             ┆   ┆ FiennesBen ┆           ┆ on.com/ima ┆            │\n",
      "│             ┆        ┆      ┆             ┆   ┆ Ki…        ┆           ┆ …          ┆            │\n",
      "│ The Dark    ┆ 9.0    ┆ 2008 ┆ PG-13       ┆ … ┆ Jonathan   ┆ 84.0      ┆ https://m. ┆ 152.0      │\n",
      "│ Knight      ┆        ┆      ┆             ┆   ┆ NolanChris ┆           ┆ media-amaz ┆            │\n",
      "│             ┆        ┆      ┆             ┆   ┆ topher     ┆           ┆ on.com/ima ┆            │\n",
      "│             ┆        ┆      ┆             ┆   ┆ Nola…      ┆           ┆ …          ┆            │\n",
      "│ The         ┆ 9.2    ┆ 1972 ┆ R           ┆ … ┆ Mario Puzo ┆ 100.0     ┆ https://m. ┆ 175.0      │\n",
      "│ Godfather   ┆        ┆      ┆             ┆   ┆ Francis    ┆           ┆ media-amaz ┆            │\n",
      "│             ┆        ┆      ┆             ┆   ┆ Ford       ┆           ┆ on.com/ima ┆            │\n",
      "│             ┆        ┆      ┆             ┆   ┆ Coppola    ┆           ┆ …          ┆            │\n",
      "│ The         ┆ 9.3    ┆ 1994 ┆ R           ┆ … ┆ Tim Robbin ┆ 82.0      ┆ https://m. ┆ 142.0      │\n",
      "│ Shawshank   ┆        ┆      ┆             ┆   ┆ sMorgan    ┆           ┆ media-amaz ┆            │\n",
      "│ Redemption  ┆        ┆      ┆             ┆   ┆ FreemanBob ┆           ┆ on.com/ima ┆            │\n",
      "│             ┆        ┆      ┆             ┆   ┆ G…         ┆           ┆ …          ┆            │\n",
      "└─────────────┴────────┴──────┴─────────────┴───┴────────────┴───────────┴────────────┴────────────┘\n"
     ]
    }
   ],
   "source": [
    "df_polars = pl.read_csv('../raw_csv/IMDb_Dataset_2.csv')\n",
    "print(df_polars)"
   ]
  }
 ],
 "metadata": {
  "kernelspec": {
   "display_name": "Python 3",
   "language": "python",
   "name": "python3"
  },
  "language_info": {
   "codemirror_mode": {
    "name": "ipython",
    "version": 3
   },
   "file_extension": ".py",
   "mimetype": "text/x-python",
   "name": "python",
   "nbconvert_exporter": "python",
   "pygments_lexer": "ipython3",
   "version": "3.12.0"
  }
 },
 "nbformat": 4,
 "nbformat_minor": 2
}
