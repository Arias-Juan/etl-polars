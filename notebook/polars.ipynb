{
 "cells": [
  {
   "cell_type": "code",
   "execution_count": 1,
   "metadata": {},
   "outputs": [],
   "source": [
    "import polars as pl"
   ]
  },
  {
   "cell_type": "code",
   "execution_count": 2,
   "metadata": {},
   "outputs": [],
   "source": [
    "df_polars_e = pl.read_csv('../raw_csv/IMDb_Dataset_2.csv')"
   ]
  },
  {
   "cell_type": "code",
   "execution_count": 3,
   "metadata": {},
   "outputs": [
    {
     "data": {
      "text/html": [
       "<div><style>\n",
       ".dataframe > thead > tr,\n",
       ".dataframe > tbody > tr {\n",
       "  text-align: right;\n",
       "  white-space: pre-wrap;\n",
       "}\n",
       "</style>\n",
       "<small>shape: (3_173, 10)</small><table border=\"1\" class=\"dataframe\"><thead><tr><th>Title</th><th>IMDb Rating</th><th>Year</th><th>Certificates</th><th>Genre</th><th>Director</th><th>Star Cast</th><th>MetaScore</th><th>Poster-src</th><th>Duration (minutes)</th></tr><tr><td>str</td><td>f64</td><td>i64</td><td>str</td><td>str</td><td>str</td><td>str</td><td>f64</td><td>str</td><td>f64</td></tr></thead><tbody><tr><td>&quot;End of the Spear&quot;</td><td>6.8</td><td>2005</td><td>&quot;PG-13&quot;</td><td>&quot;Adventure&quot;</td><td>&quot;Jim Hanon&quot;</td><td>&quot;Louie LeonardoChad AllenJack G…</td><td>45.0</td><td>&quot;https://m.media-amazon.com/ima…</td><td>108.0</td></tr><tr><td>&quot;Elvira Madigan&quot;</td><td>7.0</td><td>1967</td><td>&quot;PG&quot;</td><td>&quot;Biography&quot;</td><td>&quot;Bo Widerberg&quot;</td><td>&quot;Pia DegermarkThommy BerggrenLe…</td><td>66.0</td><td>&quot;https://m.media-amazon.com/ima…</td><td>91.0</td></tr><tr><td>&quot;The Kid Stays in the Picture&quot;</td><td>7.3</td><td>2002</td><td>&quot;R&quot;</td><td>&quot;Documentary&quot;</td><td>&quot;Nanette Burstein&quot;</td><td>&quot;Robert EvansEddie AlbertPeter …</td><td>75.0</td><td>&quot;https://m.media-amazon.com/ima…</td><td>93.0</td></tr><tr><td>&quot;It Ain&#x27;t Over&quot;</td><td>8.2</td><td>2022</td><td>&quot;PG&quot;</td><td>&quot;Documentary&quot;</td><td>&quot;Sean Mullin&quot;</td><td>&quot;Andy AndresRoger AngellMarty A…</td><td>79.0</td><td>&quot;https://m.media-amazon.com/ima…</td><td>99.0</td></tr><tr><td>&quot;Mahler&quot;</td><td>7.0</td><td>1974</td><td>&quot;PG&quot;</td><td>&quot;Biography&quot;</td><td>&quot;Ken Russell&quot;</td><td>&quot;Robert PowellGeorgina HaleLee …</td><td>66.0</td><td>&quot;https://m.media-amazon.com/ima…</td><td>115.0</td></tr><tr><td>&hellip;</td><td>&hellip;</td><td>&hellip;</td><td>&hellip;</td><td>&hellip;</td><td>&hellip;</td><td>&hellip;</td><td>&hellip;</td><td>&hellip;</td><td>&hellip;</td></tr><tr><td>&quot;The Lord of the Rings: The Ret…</td><td>9.0</td><td>2003</td><td>&quot;PG-13&quot;</td><td>&quot;Action&quot;</td><td>&quot;Peter Jackson&quot;</td><td>&quot;J.R.R. TolkienFran WalshPhilip…</td><td>94.0</td><td>&quot;https://m.media-amazon.com/ima…</td><td>201.0</td></tr><tr><td>&quot;Schindler&#x27;s List&quot;</td><td>9.0</td><td>1993</td><td>&quot;R&quot;</td><td>&quot;Biography&quot;</td><td>&quot;Steven Spielberg&quot;</td><td>&quot;Liam NeesonRalph FiennesBen Ki…</td><td>95.0</td><td>&quot;https://m.media-amazon.com/ima…</td><td>195.0</td></tr><tr><td>&quot;The Dark Knight&quot;</td><td>9.0</td><td>2008</td><td>&quot;PG-13&quot;</td><td>&quot;Action&quot;</td><td>&quot;Christopher Nolan&quot;</td><td>&quot;Jonathan NolanChristopher Nola…</td><td>84.0</td><td>&quot;https://m.media-amazon.com/ima…</td><td>152.0</td></tr><tr><td>&quot;The Godfather&quot;</td><td>9.2</td><td>1972</td><td>&quot;R&quot;</td><td>&quot;Crime&quot;</td><td>&quot;Francis Ford Coppola&quot;</td><td>&quot;Mario PuzoFrancis Ford Coppola&quot;</td><td>100.0</td><td>&quot;https://m.media-amazon.com/ima…</td><td>175.0</td></tr><tr><td>&quot;The Shawshank Redemption&quot;</td><td>9.3</td><td>1994</td><td>&quot;R&quot;</td><td>&quot;Drama&quot;</td><td>&quot;Frank Darabont&quot;</td><td>&quot;Tim RobbinsMorgan FreemanBob G…</td><td>82.0</td><td>&quot;https://m.media-amazon.com/ima…</td><td>142.0</td></tr></tbody></table></div>"
      ],
      "text/plain": [
       "shape: (3_173, 10)\n",
       "┌─────────────┬────────┬──────┬─────────────┬───┬────────────┬───────────┬────────────┬────────────┐\n",
       "│ Title       ┆ IMDb   ┆ Year ┆ Certificate ┆ … ┆ Star Cast  ┆ MetaScore ┆ Poster-src ┆ Duration   │\n",
       "│ ---         ┆ Rating ┆ ---  ┆ s           ┆   ┆ ---        ┆ ---       ┆ ---        ┆ (minutes)  │\n",
       "│ str         ┆ ---    ┆ i64  ┆ ---         ┆   ┆ str        ┆ f64       ┆ str        ┆ ---        │\n",
       "│             ┆ f64    ┆      ┆ str         ┆   ┆            ┆           ┆            ┆ f64        │\n",
       "╞═════════════╪════════╪══════╪═════════════╪═══╪════════════╪═══════════╪════════════╪════════════╡\n",
       "│ End of the  ┆ 6.8    ┆ 2005 ┆ PG-13       ┆ … ┆ Louie Leon ┆ 45.0      ┆ https://m. ┆ 108.0      │\n",
       "│ Spear       ┆        ┆      ┆             ┆   ┆ ardoChad   ┆           ┆ media-amaz ┆            │\n",
       "│             ┆        ┆      ┆             ┆   ┆ AllenJack  ┆           ┆ on.com/ima ┆            │\n",
       "│             ┆        ┆      ┆             ┆   ┆ G…         ┆           ┆ …          ┆            │\n",
       "│ Elvira      ┆ 7.0    ┆ 1967 ┆ PG          ┆ … ┆ Pia Degerm ┆ 66.0      ┆ https://m. ┆ 91.0       │\n",
       "│ Madigan     ┆        ┆      ┆             ┆   ┆ arkThommy  ┆           ┆ media-amaz ┆            │\n",
       "│             ┆        ┆      ┆             ┆   ┆ BerggrenLe ┆           ┆ on.com/ima ┆            │\n",
       "│             ┆        ┆      ┆             ┆   ┆ …          ┆           ┆ …          ┆            │\n",
       "│ The Kid     ┆ 7.3    ┆ 2002 ┆ R           ┆ … ┆ Robert     ┆ 75.0      ┆ https://m. ┆ 93.0       │\n",
       "│ Stays in    ┆        ┆      ┆             ┆   ┆ EvansEddie ┆           ┆ media-amaz ┆            │\n",
       "│ the Picture ┆        ┆      ┆             ┆   ┆ AlbertPete ┆           ┆ on.com/ima ┆            │\n",
       "│             ┆        ┆      ┆             ┆   ┆ r …        ┆           ┆ …          ┆            │\n",
       "│ It Ain't    ┆ 8.2    ┆ 2022 ┆ PG          ┆ … ┆ Andy Andre ┆ 79.0      ┆ https://m. ┆ 99.0       │\n",
       "│ Over        ┆        ┆      ┆             ┆   ┆ sRoger Ang ┆           ┆ media-amaz ┆            │\n",
       "│             ┆        ┆      ┆             ┆   ┆ ellMarty   ┆           ┆ on.com/ima ┆            │\n",
       "│             ┆        ┆      ┆             ┆   ┆ A…         ┆           ┆ …          ┆            │\n",
       "│ Mahler      ┆ 7.0    ┆ 1974 ┆ PG          ┆ … ┆ Robert Pow ┆ 66.0      ┆ https://m. ┆ 115.0      │\n",
       "│             ┆        ┆      ┆             ┆   ┆ ellGeorgin ┆           ┆ media-amaz ┆            │\n",
       "│             ┆        ┆      ┆             ┆   ┆ a HaleLee  ┆           ┆ on.com/ima ┆            │\n",
       "│             ┆        ┆      ┆             ┆   ┆ …          ┆           ┆ …          ┆            │\n",
       "│ …           ┆ …      ┆ …    ┆ …           ┆ … ┆ …          ┆ …         ┆ …          ┆ …          │\n",
       "│ The Lord of ┆ 9.0    ┆ 2003 ┆ PG-13       ┆ … ┆ J.R.R. Tol ┆ 94.0      ┆ https://m. ┆ 201.0      │\n",
       "│ the Rings:  ┆        ┆      ┆             ┆   ┆ kienFran   ┆           ┆ media-amaz ┆            │\n",
       "│ The Ret…    ┆        ┆      ┆             ┆   ┆ WalshPhili ┆           ┆ on.com/ima ┆            │\n",
       "│             ┆        ┆      ┆             ┆   ┆ p…         ┆           ┆ …          ┆            │\n",
       "│ Schindler's ┆ 9.0    ┆ 1993 ┆ R           ┆ … ┆ Liam Neeso ┆ 95.0      ┆ https://m. ┆ 195.0      │\n",
       "│ List        ┆        ┆      ┆             ┆   ┆ nRalph     ┆           ┆ media-amaz ┆            │\n",
       "│             ┆        ┆      ┆             ┆   ┆ FiennesBen ┆           ┆ on.com/ima ┆            │\n",
       "│             ┆        ┆      ┆             ┆   ┆ Ki…        ┆           ┆ …          ┆            │\n",
       "│ The Dark    ┆ 9.0    ┆ 2008 ┆ PG-13       ┆ … ┆ Jonathan   ┆ 84.0      ┆ https://m. ┆ 152.0      │\n",
       "│ Knight      ┆        ┆      ┆             ┆   ┆ NolanChris ┆           ┆ media-amaz ┆            │\n",
       "│             ┆        ┆      ┆             ┆   ┆ topher     ┆           ┆ on.com/ima ┆            │\n",
       "│             ┆        ┆      ┆             ┆   ┆ Nola…      ┆           ┆ …          ┆            │\n",
       "│ The         ┆ 9.2    ┆ 1972 ┆ R           ┆ … ┆ Mario Puzo ┆ 100.0     ┆ https://m. ┆ 175.0      │\n",
       "│ Godfather   ┆        ┆      ┆             ┆   ┆ Francis    ┆           ┆ media-amaz ┆            │\n",
       "│             ┆        ┆      ┆             ┆   ┆ Ford       ┆           ┆ on.com/ima ┆            │\n",
       "│             ┆        ┆      ┆             ┆   ┆ Coppola    ┆           ┆ …          ┆            │\n",
       "│ The         ┆ 9.3    ┆ 1994 ┆ R           ┆ … ┆ Tim Robbin ┆ 82.0      ┆ https://m. ┆ 142.0      │\n",
       "│ Shawshank   ┆        ┆      ┆             ┆   ┆ sMorgan    ┆           ┆ media-amaz ┆            │\n",
       "│ Redemption  ┆        ┆      ┆             ┆   ┆ FreemanBob ┆           ┆ on.com/ima ┆            │\n",
       "│             ┆        ┆      ┆             ┆   ┆ G…         ┆           ┆ …          ┆            │\n",
       "└─────────────┴────────┴──────┴─────────────┴───┴────────────┴───────────┴────────────┴────────────┘"
      ]
     },
     "execution_count": 3,
     "metadata": {},
     "output_type": "execute_result"
    }
   ],
   "source": [
    "df_polars_e"
   ]
  },
  {
   "cell_type": "code",
   "execution_count": 4,
   "metadata": {},
   "outputs": [],
   "source": [
    "df_polars_t = df_polars_e.filter(pl.col(\"IMDb Rating\")>=8.0)"
   ]
  },
  {
   "cell_type": "code",
   "execution_count": 5,
   "metadata": {},
   "outputs": [
    {
     "data": {
      "text/html": [
       "<div><style>\n",
       ".dataframe > thead > tr,\n",
       ".dataframe > tbody > tr {\n",
       "  text-align: right;\n",
       "  white-space: pre-wrap;\n",
       "}\n",
       "</style>\n",
       "<small>shape: (10, 2)</small><table border=\"1\" class=\"dataframe\"><thead><tr><th>Year</th><th>count</th></tr><tr><td>i64</td><td>u32</td></tr></thead><tbody><tr><td>2024</td><td>5</td></tr><tr><td>2023</td><td>10</td></tr><tr><td>2022</td><td>5</td></tr><tr><td>2021</td><td>11</td></tr><tr><td>2020</td><td>7</td></tr><tr><td>2019</td><td>10</td></tr><tr><td>2018</td><td>12</td></tr><tr><td>2017</td><td>13</td></tr><tr><td>2016</td><td>20</td></tr><tr><td>2015</td><td>8</td></tr></tbody></table></div>"
      ],
      "text/plain": [
       "shape: (10, 2)\n",
       "┌──────┬───────┐\n",
       "│ Year ┆ count │\n",
       "│ ---  ┆ ---   │\n",
       "│ i64  ┆ u32   │\n",
       "╞══════╪═══════╡\n",
       "│ 2024 ┆ 5     │\n",
       "│ 2023 ┆ 10    │\n",
       "│ 2022 ┆ 5     │\n",
       "│ 2021 ┆ 11    │\n",
       "│ 2020 ┆ 7     │\n",
       "│ 2019 ┆ 10    │\n",
       "│ 2018 ┆ 12    │\n",
       "│ 2017 ┆ 13    │\n",
       "│ 2016 ┆ 20    │\n",
       "│ 2015 ┆ 8     │\n",
       "└──────┴───────┘"
      ]
     },
     "execution_count": 5,
     "metadata": {},
     "output_type": "execute_result"
    }
   ],
   "source": [
    "df_polars_t.group_by(pl.col(\"Year\")).agg(pl.col(\"Title\").count().alias(\"count\")).sort(\"Year\", descending=True).head(10)"
   ]
  },
  {
   "cell_type": "code",
   "execution_count": 6,
   "metadata": {},
   "outputs": [],
   "source": [
    "df_polars_t = df_polars_t.filter(pl.col(\"Year\")>=2015)"
   ]
  },
  {
   "cell_type": "code",
   "execution_count": 7,
   "metadata": {},
   "outputs": [],
   "source": [
    "df_polars_t = df_polars_t.rename({\"IMDb Rating\": \"IMDb_rating\",\"Duration (minutes)\": \"duration_minutes\"})"
   ]
  },
  {
   "cell_type": "code",
   "execution_count": 8,
   "metadata": {},
   "outputs": [
    {
     "data": {
      "text/html": [
       "<div><style>\n",
       ".dataframe > thead > tr,\n",
       ".dataframe > tbody > tr {\n",
       "  text-align: right;\n",
       "  white-space: pre-wrap;\n",
       "}\n",
       "</style>\n",
       "<small>shape: (101, 5)</small><table border=\"1\" class=\"dataframe\"><thead><tr><th>Title</th><th>IMDb_rating</th><th>Year</th><th>Genre</th><th>duration_minutes</th></tr><tr><td>str</td><td>f64</td><td>i64</td><td>str</td><td>f64</td></tr></thead><tbody><tr><td>&quot;It Ain&#x27;t Over&quot;</td><td>8.2</td><td>2022</td><td>&quot;Documentary&quot;</td><td>99.0</td></tr><tr><td>&quot;Won&#x27;t You Be My Neighbor?&quot;</td><td>8.3</td><td>2018</td><td>&quot;Documentary&quot;</td><td>95.0</td></tr><tr><td>&quot;Still: A Michael J. Fox Movie&quot;</td><td>8.1</td><td>2023</td><td>&quot;Documentary&quot;</td><td>95.0</td></tr><tr><td>&quot;Super/Man: The Christopher Ree…</td><td>8.2</td><td>2024</td><td>&quot;Documentary&quot;</td><td>106.0</td></tr><tr><td>&quot;Spotlight&quot;</td><td>8.1</td><td>2015</td><td>&quot;Biography&quot;</td><td>129.0</td></tr><tr><td>&hellip;</td><td>&hellip;</td><td>&hellip;</td><td>&hellip;</td><td>&hellip;</td></tr><tr><td>&quot;Avengers: Endgame&quot;</td><td>8.4</td><td>2019</td><td>&quot;Action&quot;</td><td>181.0</td></tr><tr><td>&quot;Parasite&quot;</td><td>8.5</td><td>2019</td><td>&quot;Drama&quot;</td><td>132.0</td></tr><tr><td>&quot;Spider-Man: Across the Spider-…</td><td>8.6</td><td>2023</td><td>&quot;Animation&quot;</td><td>140.0</td></tr><tr><td>&quot;Dune: Part Two&quot;</td><td>8.6</td><td>2024</td><td>&quot;Action&quot;</td><td>166.0</td></tr><tr><td>&quot;12th Fail&quot;</td><td>8.9</td><td>2023</td><td>&quot;Biography&quot;</td><td>116.3</td></tr></tbody></table></div>"
      ],
      "text/plain": [
       "shape: (101, 5)\n",
       "┌─────────────────────────────────┬─────────────┬──────┬─────────────┬──────────────────┐\n",
       "│ Title                           ┆ IMDb_rating ┆ Year ┆ Genre       ┆ duration_minutes │\n",
       "│ ---                             ┆ ---         ┆ ---  ┆ ---         ┆ ---              │\n",
       "│ str                             ┆ f64         ┆ i64  ┆ str         ┆ f64              │\n",
       "╞═════════════════════════════════╪═════════════╪══════╪═════════════╪══════════════════╡\n",
       "│ It Ain't Over                   ┆ 8.2         ┆ 2022 ┆ Documentary ┆ 99.0             │\n",
       "│ Won't You Be My Neighbor?       ┆ 8.3         ┆ 2018 ┆ Documentary ┆ 95.0             │\n",
       "│ Still: A Michael J. Fox Movie   ┆ 8.1         ┆ 2023 ┆ Documentary ┆ 95.0             │\n",
       "│ Super/Man: The Christopher Ree… ┆ 8.2         ┆ 2024 ┆ Documentary ┆ 106.0            │\n",
       "│ Spotlight                       ┆ 8.1         ┆ 2015 ┆ Biography   ┆ 129.0            │\n",
       "│ …                               ┆ …           ┆ …    ┆ …           ┆ …                │\n",
       "│ Avengers: Endgame               ┆ 8.4         ┆ 2019 ┆ Action      ┆ 181.0            │\n",
       "│ Parasite                        ┆ 8.5         ┆ 2019 ┆ Drama       ┆ 132.0            │\n",
       "│ Spider-Man: Across the Spider-… ┆ 8.6         ┆ 2023 ┆ Animation   ┆ 140.0            │\n",
       "│ Dune: Part Two                  ┆ 8.6         ┆ 2024 ┆ Action      ┆ 166.0            │\n",
       "│ 12th Fail                       ┆ 8.9         ┆ 2023 ┆ Biography   ┆ 116.3            │\n",
       "└─────────────────────────────────┴─────────────┴──────┴─────────────┴──────────────────┘"
      ]
     },
     "execution_count": 8,
     "metadata": {},
     "output_type": "execute_result"
    }
   ],
   "source": [
    "df_polars_t = df_polars_t.select(\"Title\",\"IMDb_rating\",\"Year\",\"Genre\",\"duration_minutes\")\n",
    "\n",
    "df_polars_t"
   ]
  },
  {
   "cell_type": "code",
   "execution_count": 9,
   "metadata": {},
   "outputs": [
    {
     "data": {
      "text/html": [
       "<div><style>\n",
       ".dataframe > thead > tr,\n",
       ".dataframe > tbody > tr {\n",
       "  text-align: right;\n",
       "  white-space: pre-wrap;\n",
       "}\n",
       "</style>\n",
       "<small>shape: (11, 1)</small><table border=\"1\" class=\"dataframe\"><thead><tr><th>Genre</th></tr><tr><td>str</td></tr></thead><tbody><tr><td>&quot;Mystery&quot;</td></tr><tr><td>&quot;Biography&quot;</td></tr><tr><td>&quot;Action&quot;</td></tr><tr><td>&quot;Animation&quot;</td></tr><tr><td>&quot;Crime&quot;</td></tr><tr><td>&quot;Sci-Fi&quot;</td></tr><tr><td>&quot;Documentary&quot;</td></tr><tr><td>&quot;Comedy&quot;</td></tr><tr><td>&quot;Horror&quot;</td></tr><tr><td>&quot;Adventure&quot;</td></tr><tr><td>&quot;Drama&quot;</td></tr></tbody></table></div>"
      ],
      "text/plain": [
       "shape: (11, 1)\n",
       "┌─────────────┐\n",
       "│ Genre       │\n",
       "│ ---         │\n",
       "│ str         │\n",
       "╞═════════════╡\n",
       "│ Mystery     │\n",
       "│ Biography   │\n",
       "│ Action      │\n",
       "│ Animation   │\n",
       "│ Crime       │\n",
       "│ Sci-Fi      │\n",
       "│ Documentary │\n",
       "│ Comedy      │\n",
       "│ Horror      │\n",
       "│ Adventure   │\n",
       "│ Drama       │\n",
       "└─────────────┘"
      ]
     },
     "execution_count": 9,
     "metadata": {},
     "output_type": "execute_result"
    }
   ],
   "source": [
    "pl.Config.set_tbl_rows(12)\n",
    "df_polars_t.select(\"Genre\").unique()"
   ]
  },
  {
   "cell_type": "code",
   "execution_count": 10,
   "metadata": {},
   "outputs": [
    {
     "data": {
      "text/html": [
       "<div><style>\n",
       ".dataframe > thead > tr,\n",
       ".dataframe > tbody > tr {\n",
       "  text-align: right;\n",
       "  white-space: pre-wrap;\n",
       "}\n",
       "</style>\n",
       "<small>shape: (101, 6)</small><table border=\"1\" class=\"dataframe\"><thead><tr><th>Title</th><th>IMDb_rating</th><th>Year</th><th>Genre</th><th>duration_minutes</th><th>flag_fiction</th></tr><tr><td>str</td><td>f64</td><td>i64</td><td>str</td><td>f64</td><td>i32</td></tr></thead><tbody><tr><td>&quot;It Ain&#x27;t Over&quot;</td><td>8.2</td><td>2022</td><td>&quot;Documentary&quot;</td><td>99.0</td><td>0</td></tr><tr><td>&quot;Won&#x27;t You Be My Neighbor?&quot;</td><td>8.3</td><td>2018</td><td>&quot;Documentary&quot;</td><td>95.0</td><td>0</td></tr><tr><td>&quot;Still: A Michael J. Fox Movie&quot;</td><td>8.1</td><td>2023</td><td>&quot;Documentary&quot;</td><td>95.0</td><td>0</td></tr><tr><td>&quot;Super/Man: The Christopher Ree…</td><td>8.2</td><td>2024</td><td>&quot;Documentary&quot;</td><td>106.0</td><td>0</td></tr><tr><td>&quot;Spotlight&quot;</td><td>8.1</td><td>2015</td><td>&quot;Biography&quot;</td><td>129.0</td><td>0</td></tr><tr><td>&quot;Lion&quot;</td><td>8.0</td><td>2016</td><td>&quot;Biography&quot;</td><td>118.0</td><td>0</td></tr><tr><td>&hellip;</td><td>&hellip;</td><td>&hellip;</td><td>&hellip;</td><td>&hellip;</td><td>&hellip;</td></tr><tr><td>&quot;Joker&quot;</td><td>8.4</td><td>2019</td><td>&quot;Crime&quot;</td><td>122.0</td><td>1</td></tr><tr><td>&quot;Avengers: Endgame&quot;</td><td>8.4</td><td>2019</td><td>&quot;Action&quot;</td><td>181.0</td><td>1</td></tr><tr><td>&quot;Parasite&quot;</td><td>8.5</td><td>2019</td><td>&quot;Drama&quot;</td><td>132.0</td><td>1</td></tr><tr><td>&quot;Spider-Man: Across the Spider-…</td><td>8.6</td><td>2023</td><td>&quot;Animation&quot;</td><td>140.0</td><td>1</td></tr><tr><td>&quot;Dune: Part Two&quot;</td><td>8.6</td><td>2024</td><td>&quot;Action&quot;</td><td>166.0</td><td>1</td></tr><tr><td>&quot;12th Fail&quot;</td><td>8.9</td><td>2023</td><td>&quot;Biography&quot;</td><td>116.3</td><td>0</td></tr></tbody></table></div>"
      ],
      "text/plain": [
       "shape: (101, 6)\n",
       "┌─────────────────────────────┬─────────────┬──────┬─────────────┬──────────────────┬──────────────┐\n",
       "│ Title                       ┆ IMDb_rating ┆ Year ┆ Genre       ┆ duration_minutes ┆ flag_fiction │\n",
       "│ ---                         ┆ ---         ┆ ---  ┆ ---         ┆ ---              ┆ ---          │\n",
       "│ str                         ┆ f64         ┆ i64  ┆ str         ┆ f64              ┆ i32          │\n",
       "╞═════════════════════════════╪═════════════╪══════╪═════════════╪══════════════════╪══════════════╡\n",
       "│ It Ain't Over               ┆ 8.2         ┆ 2022 ┆ Documentary ┆ 99.0             ┆ 0            │\n",
       "│ Won't You Be My Neighbor?   ┆ 8.3         ┆ 2018 ┆ Documentary ┆ 95.0             ┆ 0            │\n",
       "│ Still: A Michael J. Fox     ┆ 8.1         ┆ 2023 ┆ Documentary ┆ 95.0             ┆ 0            │\n",
       "│ Movie                       ┆             ┆      ┆             ┆                  ┆              │\n",
       "│ Super/Man: The Christopher  ┆ 8.2         ┆ 2024 ┆ Documentary ┆ 106.0            ┆ 0            │\n",
       "│ Ree…                        ┆             ┆      ┆             ┆                  ┆              │\n",
       "│ Spotlight                   ┆ 8.1         ┆ 2015 ┆ Biography   ┆ 129.0            ┆ 0            │\n",
       "│ Lion                        ┆ 8.0         ┆ 2016 ┆ Biography   ┆ 118.0            ┆ 0            │\n",
       "│ …                           ┆ …           ┆ …    ┆ …           ┆ …                ┆ …            │\n",
       "│ Joker                       ┆ 8.4         ┆ 2019 ┆ Crime       ┆ 122.0            ┆ 1            │\n",
       "│ Avengers: Endgame           ┆ 8.4         ┆ 2019 ┆ Action      ┆ 181.0            ┆ 1            │\n",
       "│ Parasite                    ┆ 8.5         ┆ 2019 ┆ Drama       ┆ 132.0            ┆ 1            │\n",
       "│ Spider-Man: Across the      ┆ 8.6         ┆ 2023 ┆ Animation   ┆ 140.0            ┆ 1            │\n",
       "│ Spider-…                    ┆             ┆      ┆             ┆                  ┆              │\n",
       "│ Dune: Part Two              ┆ 8.6         ┆ 2024 ┆ Action      ┆ 166.0            ┆ 1            │\n",
       "│ 12th Fail                   ┆ 8.9         ┆ 2023 ┆ Biography   ┆ 116.3            ┆ 0            │\n",
       "└─────────────────────────────┴─────────────┴──────┴─────────────┴──────────────────┴──────────────┘"
      ]
     },
     "execution_count": 10,
     "metadata": {},
     "output_type": "execute_result"
    }
   ],
   "source": [
    "fictional_genres = [\"Documentary\",\"Biography\"]\n",
    "df_polars_t = df_polars_t.with_columns(pl.when(pl.col(\"Genre\").is_in(fictional_genres)).then(0).otherwise(1).alias(\"flag_fiction\"))\n",
    "\n",
    "df_polars_t"
   ]
  },
  {
   "cell_type": "code",
   "execution_count": 11,
   "metadata": {},
   "outputs": [
    {
     "data": {
      "text/html": [
       "<div><style>\n",
       ".dataframe > thead > tr,\n",
       ".dataframe > tbody > tr {\n",
       "  text-align: right;\n",
       "  white-space: pre-wrap;\n",
       "}\n",
       "</style>\n",
       "<small>shape: (101, 6)</small><table border=\"1\" class=\"dataframe\"><thead><tr><th>Title</th><th>IMDb_rating</th><th>Year</th><th>Genre</th><th>duration_minutes</th><th>flag_fiction</th></tr><tr><td>str</td><td>f64</td><td>i64</td><td>str</td><td>f64</td><td>i32</td></tr></thead><tbody><tr><td>&quot;Loving Carmen&quot;</td><td>9.3</td><td>2016</td><td>&quot;Documentary&quot;</td><td>66.0</td><td>0</td></tr><tr><td>&quot;Fuga dalla Morte&quot;</td><td>9.2</td><td>2023</td><td>&quot;Adventure&quot;</td><td>116.3</td><td>1</td></tr><tr><td>&quot;Fast Shark III: Fastest Shark&quot;</td><td>9.0</td><td>2023</td><td>&quot;Comedy&quot;</td><td>116.3</td><td>1</td></tr><tr><td>&quot;12th Fail&quot;</td><td>8.9</td><td>2023</td><td>&quot;Biography&quot;</td><td>116.3</td><td>0</td></tr><tr><td>&quot;Saving for the Day&quot;</td><td>8.8</td><td>2023</td><td>&quot;Action&quot;</td><td>116.3</td><td>1</td></tr><tr><td>&quot;Christmas Mouse&quot;</td><td>8.8</td><td>2022</td><td>&quot;Adventure&quot;</td><td>102.0</td><td>1</td></tr><tr><td>&hellip;</td><td>&hellip;</td><td>&hellip;</td><td>&hellip;</td><td>&hellip;</td><td>&hellip;</td></tr><tr><td>&quot;Street Gang: How We Got to Ses…</td><td>8.0</td><td>2021</td><td>&quot;Documentary&quot;</td><td>107.0</td><td>0</td></tr><tr><td>&quot;Summer of Soul (...Or, When th…</td><td>8.0</td><td>2021</td><td>&quot;Documentary&quot;</td><td>118.0</td><td>0</td></tr><tr><td>&quot;Zootopia&quot;</td><td>8.0</td><td>2016</td><td>&quot;Animation&quot;</td><td>108.0</td><td>1</td></tr><tr><td>&quot;Aavesham&quot;</td><td>8.0</td><td>2024</td><td>&quot;Action&quot;</td><td>116.3</td><td>1</td></tr><tr><td>&quot;Deadpool&quot;</td><td>8.0</td><td>2016</td><td>&quot;Action&quot;</td><td>108.0</td><td>1</td></tr><tr><td>&quot;Zootopia&quot;</td><td>8.0</td><td>2016</td><td>&quot;Animation&quot;</td><td>108.0</td><td>1</td></tr></tbody></table></div>"
      ],
      "text/plain": [
       "shape: (101, 6)\n",
       "┌─────────────────────────────┬─────────────┬──────┬─────────────┬──────────────────┬──────────────┐\n",
       "│ Title                       ┆ IMDb_rating ┆ Year ┆ Genre       ┆ duration_minutes ┆ flag_fiction │\n",
       "│ ---                         ┆ ---         ┆ ---  ┆ ---         ┆ ---              ┆ ---          │\n",
       "│ str                         ┆ f64         ┆ i64  ┆ str         ┆ f64              ┆ i32          │\n",
       "╞═════════════════════════════╪═════════════╪══════╪═════════════╪══════════════════╪══════════════╡\n",
       "│ Loving Carmen               ┆ 9.3         ┆ 2016 ┆ Documentary ┆ 66.0             ┆ 0            │\n",
       "│ Fuga dalla Morte            ┆ 9.2         ┆ 2023 ┆ Adventure   ┆ 116.3            ┆ 1            │\n",
       "│ Fast Shark III: Fastest     ┆ 9.0         ┆ 2023 ┆ Comedy      ┆ 116.3            ┆ 1            │\n",
       "│ Shark                       ┆             ┆      ┆             ┆                  ┆              │\n",
       "│ 12th Fail                   ┆ 8.9         ┆ 2023 ┆ Biography   ┆ 116.3            ┆ 0            │\n",
       "│ Saving for the Day          ┆ 8.8         ┆ 2023 ┆ Action      ┆ 116.3            ┆ 1            │\n",
       "│ Christmas Mouse             ┆ 8.8         ┆ 2022 ┆ Adventure   ┆ 102.0            ┆ 1            │\n",
       "│ …                           ┆ …           ┆ …    ┆ …           ┆ …                ┆ …            │\n",
       "│ Street Gang: How We Got to  ┆ 8.0         ┆ 2021 ┆ Documentary ┆ 107.0            ┆ 0            │\n",
       "│ Ses…                        ┆             ┆      ┆             ┆                  ┆              │\n",
       "│ Summer of Soul (...Or, When ┆ 8.0         ┆ 2021 ┆ Documentary ┆ 118.0            ┆ 0            │\n",
       "│ th…                         ┆             ┆      ┆             ┆                  ┆              │\n",
       "│ Zootopia                    ┆ 8.0         ┆ 2016 ┆ Animation   ┆ 108.0            ┆ 1            │\n",
       "│ Aavesham                    ┆ 8.0         ┆ 2024 ┆ Action      ┆ 116.3            ┆ 1            │\n",
       "│ Deadpool                    ┆ 8.0         ┆ 2016 ┆ Action      ┆ 108.0            ┆ 1            │\n",
       "│ Zootopia                    ┆ 8.0         ┆ 2016 ┆ Animation   ┆ 108.0            ┆ 1            │\n",
       "└─────────────────────────────┴─────────────┴──────┴─────────────┴──────────────────┴──────────────┘"
      ]
     },
     "execution_count": 11,
     "metadata": {},
     "output_type": "execute_result"
    }
   ],
   "source": [
    "df_polars_t = df_polars_t.sort(\"IMDb_rating\", descending=True)\n",
    "\n",
    "df_polars_t"
   ]
  },
  {
   "cell_type": "code",
   "execution_count": 12,
   "metadata": {},
   "outputs": [],
   "source": [
    "df_polars_t.write_csv(\"../final_csv/IMDb.csv\")"
   ]
  },
  {
   "cell_type": "code",
   "execution_count": 30,
   "metadata": {},
   "outputs": [
    {
     "data": {},
     "metadata": {},
     "output_type": "display_data"
    },
    {
     "data": {
      "application/vnd.holoviews_exec.v0+json": "",
      "text/html": [
       "<div id='p1703'>\n",
       "  <div id=\"cebd758c-6e4e-4e86-bd90-f70f65c296b9\" data-root-id=\"p1703\" style=\"display: contents;\"></div>\n",
       "</div>\n",
       "<script type=\"application/javascript\">(function(root) {\n",
       "  var docs_json = {\"7b98af2f-38dc-4645-9cdf-ab4a5d9d51fe\":{\"version\":\"3.4.1\",\"title\":\"Bokeh Application\",\"roots\":[{\"type\":\"object\",\"name\":\"Row\",\"id\":\"p1703\",\"attributes\":{\"name\":\"Row02348\",\"tags\":[\"embedded\"],\"stylesheets\":[\"\\n:host(.pn-loading):before, .pn-loading:before {\\n  background-color: #c3c3c3;\\n  mask-size: auto calc(min(50%, 400px));\\n  -webkit-mask-size: auto calc(min(50%, 400px));\\n}\",{\"type\":\"object\",\"name\":\"ImportedStyleSheet\",\"id\":\"p1706\",\"attributes\":{\"url\":\"https://cdn.holoviz.org/panel/1.4.4/dist/css/loading.css\"}},{\"type\":\"object\",\"name\":\"ImportedStyleSheet\",\"id\":\"p1762\",\"attributes\":{\"url\":\"https://cdn.holoviz.org/panel/1.4.4/dist/css/listpanel.css\"}},{\"type\":\"object\",\"name\":\"ImportedStyleSheet\",\"id\":\"p1704\",\"attributes\":{\"url\":\"https://cdn.holoviz.org/panel/1.4.4/dist/bundled/theme/default.css\"}},{\"type\":\"object\",\"name\":\"ImportedStyleSheet\",\"id\":\"p1705\",\"attributes\":{\"url\":\"https://cdn.holoviz.org/panel/1.4.4/dist/bundled/theme/native.css\"}}],\"min_width\":500,\"margin\":0,\"sizing_mode\":\"stretch_width\",\"align\":\"start\",\"children\":[{\"type\":\"object\",\"name\":\"Spacer\",\"id\":\"p1707\",\"attributes\":{\"name\":\"HSpacer02355\",\"stylesheets\":[\"\\n:host(.pn-loading):before, .pn-loading:before {\\n  background-color: #c3c3c3;\\n  mask-size: auto calc(min(50%, 400px));\\n  -webkit-mask-size: auto calc(min(50%, 400px));\\n}\",{\"id\":\"p1706\"},{\"id\":\"p1704\"},{\"id\":\"p1705\"}],\"margin\":0,\"sizing_mode\":\"stretch_width\",\"align\":\"start\"}},{\"type\":\"object\",\"name\":\"Figure\",\"id\":\"p1715\",\"attributes\":{\"width\":500,\"height\":300,\"margin\":[5,10],\"sizing_mode\":\"fixed\",\"align\":\"start\",\"x_range\":{\"type\":\"object\",\"name\":\"Range1d\",\"id\":\"p1708\",\"attributes\":{\"tags\":[[[\"Year\",null]],[]],\"start\":2014.46,\"end\":2024.54,\"reset_start\":2014.46,\"reset_end\":2024.54}},\"y_range\":{\"type\":\"object\",\"name\":\"Range1d\",\"id\":\"p1709\",\"attributes\":{\"tags\":[[[\"count_titles\",null]],{\"type\":\"map\",\"entries\":[[\"invert_yaxis\",false],[\"autorange\",false]]}],\"end\":21.5,\"reset_start\":0.0,\"reset_end\":21.5}},\"x_scale\":{\"type\":\"object\",\"name\":\"LinearScale\",\"id\":\"p1725\"},\"y_scale\":{\"type\":\"object\",\"name\":\"LinearScale\",\"id\":\"p1726\"},\"title\":{\"type\":\"object\",\"name\":\"Title\",\"id\":\"p1718\",\"attributes\":{\"text_color\":\"black\",\"text_font_size\":\"12pt\"}},\"renderers\":[{\"type\":\"object\",\"name\":\"GlyphRenderer\",\"id\":\"p1755\",\"attributes\":{\"data_source\":{\"type\":\"object\",\"name\":\"ColumnDataSource\",\"id\":\"p1746\",\"attributes\":{\"selected\":{\"type\":\"object\",\"name\":\"Selection\",\"id\":\"p1747\",\"attributes\":{\"indices\":[],\"line_indices\":[]}},\"selection_policy\":{\"type\":\"object\",\"name\":\"UnionRenderers\",\"id\":\"p1748\"},\"data\":{\"type\":\"map\",\"entries\":[[\"Year\",{\"type\":\"ndarray\",\"array\":{\"type\":\"bytes\",\"data\":\"6AcAAOcHAADmBwAA5QcAAOQHAADjBwAA4gcAAOEHAADgBwAA3wcAAA==\"},\"shape\":[10],\"dtype\":\"int32\",\"order\":\"little\"}],[\"count_titles\",{\"type\":\"ndarray\",\"array\":{\"type\":\"bytes\",\"data\":\"BQAAAAoAAAAFAAAACwAAAAcAAAAKAAAADAAAAA0AAAAUAAAACAAAAA==\"},\"shape\":[10],\"dtype\":\"uint32\",\"order\":\"little\"}]]}}},\"view\":{\"type\":\"object\",\"name\":\"CDSView\",\"id\":\"p1756\",\"attributes\":{\"filter\":{\"type\":\"object\",\"name\":\"AllIndices\",\"id\":\"p1757\"}}},\"glyph\":{\"type\":\"object\",\"name\":\"VBar\",\"id\":\"p1752\",\"attributes\":{\"tags\":[\"apply_ranges\"],\"x\":{\"type\":\"field\",\"field\":\"Year\"},\"width\":{\"type\":\"value\",\"value\":0.8},\"top\":{\"type\":\"field\",\"field\":\"count_titles\"},\"fill_color\":{\"type\":\"value\",\"value\":\"#30a2da\"},\"hatch_color\":{\"type\":\"value\",\"value\":\"#30a2da\"}}},\"selection_glyph\":{\"type\":\"object\",\"name\":\"VBar\",\"id\":\"p1758\",\"attributes\":{\"tags\":[\"apply_ranges\"],\"x\":{\"type\":\"field\",\"field\":\"Year\"},\"width\":{\"type\":\"value\",\"value\":0.8},\"bottom\":{\"type\":\"value\",\"value\":0},\"top\":{\"type\":\"field\",\"field\":\"count_titles\"},\"line_color\":{\"type\":\"value\",\"value\":\"black\"},\"line_alpha\":{\"type\":\"value\",\"value\":1.0},\"line_width\":{\"type\":\"value\",\"value\":1},\"line_join\":{\"type\":\"value\",\"value\":\"bevel\"},\"line_cap\":{\"type\":\"value\",\"value\":\"butt\"},\"line_dash\":{\"type\":\"value\",\"value\":[]},\"line_dash_offset\":{\"type\":\"value\",\"value\":0},\"fill_color\":{\"type\":\"value\",\"value\":\"#30a2da\"},\"fill_alpha\":{\"type\":\"value\",\"value\":1.0},\"hatch_color\":{\"type\":\"value\",\"value\":\"#30a2da\"},\"hatch_alpha\":{\"type\":\"value\",\"value\":1.0},\"hatch_scale\":{\"type\":\"value\",\"value\":12.0},\"hatch_pattern\":{\"type\":\"value\",\"value\":null},\"hatch_weight\":{\"type\":\"value\",\"value\":1.0}}},\"nonselection_glyph\":{\"type\":\"object\",\"name\":\"VBar\",\"id\":\"p1753\",\"attributes\":{\"tags\":[\"apply_ranges\"],\"x\":{\"type\":\"field\",\"field\":\"Year\"},\"width\":{\"type\":\"value\",\"value\":0.8},\"top\":{\"type\":\"field\",\"field\":\"count_titles\"},\"line_alpha\":{\"type\":\"value\",\"value\":0.1},\"fill_color\":{\"type\":\"value\",\"value\":\"#30a2da\"},\"fill_alpha\":{\"type\":\"value\",\"value\":0.1},\"hatch_color\":{\"type\":\"value\",\"value\":\"#30a2da\"},\"hatch_alpha\":{\"type\":\"value\",\"value\":0.1}}},\"muted_glyph\":{\"type\":\"object\",\"name\":\"VBar\",\"id\":\"p1754\",\"attributes\":{\"tags\":[\"apply_ranges\"],\"x\":{\"type\":\"field\",\"field\":\"Year\"},\"width\":{\"type\":\"value\",\"value\":0.8},\"top\":{\"type\":\"field\",\"field\":\"count_titles\"},\"line_alpha\":{\"type\":\"value\",\"value\":0.2},\"fill_color\":{\"type\":\"value\",\"value\":\"#30a2da\"},\"fill_alpha\":{\"type\":\"value\",\"value\":0.2},\"hatch_color\":{\"type\":\"value\",\"value\":\"#30a2da\"},\"hatch_alpha\":{\"type\":\"value\",\"value\":0.2}}}}}],\"toolbar\":{\"type\":\"object\",\"name\":\"Toolbar\",\"id\":\"p1724\",\"attributes\":{\"tools\":[{\"type\":\"object\",\"name\":\"WheelZoomTool\",\"id\":\"p1713\",\"attributes\":{\"tags\":[\"hv_created\"],\"renderers\":\"auto\",\"zoom_together\":\"none\"}},{\"type\":\"object\",\"name\":\"HoverTool\",\"id\":\"p1714\",\"attributes\":{\"tags\":[\"hv_created\"],\"renderers\":[{\"id\":\"p1755\"}],\"tooltips\":[[\"Year\",\"@{Year}\"],[\"count_titles\",\"@{count_titles}\"]]}},{\"type\":\"object\",\"name\":\"SaveTool\",\"id\":\"p1737\"},{\"type\":\"object\",\"name\":\"PanTool\",\"id\":\"p1738\"},{\"type\":\"object\",\"name\":\"BoxZoomTool\",\"id\":\"p1739\",\"attributes\":{\"overlay\":{\"type\":\"object\",\"name\":\"BoxAnnotation\",\"id\":\"p1740\",\"attributes\":{\"syncable\":false,\"level\":\"overlay\",\"visible\":false,\"left\":{\"type\":\"number\",\"value\":\"nan\"},\"right\":{\"type\":\"number\",\"value\":\"nan\"},\"top\":{\"type\":\"number\",\"value\":\"nan\"},\"bottom\":{\"type\":\"number\",\"value\":\"nan\"},\"left_units\":\"canvas\",\"right_units\":\"canvas\",\"top_units\":\"canvas\",\"bottom_units\":\"canvas\",\"line_color\":\"black\",\"line_alpha\":1.0,\"line_width\":2,\"line_dash\":[4,4],\"fill_color\":\"lightgrey\",\"fill_alpha\":0.5}}}},{\"type\":\"object\",\"name\":\"ResetTool\",\"id\":\"p1745\"}],\"active_drag\":{\"id\":\"p1738\"},\"active_scroll\":{\"id\":\"p1713\"}}},\"left\":[{\"type\":\"object\",\"name\":\"LinearAxis\",\"id\":\"p1732\",\"attributes\":{\"ticker\":{\"type\":\"object\",\"name\":\"BasicTicker\",\"id\":\"p1733\",\"attributes\":{\"mantissas\":[1,2,5]}},\"formatter\":{\"type\":\"object\",\"name\":\"BasicTickFormatter\",\"id\":\"p1734\"},\"axis_label\":\"count_titles\",\"major_label_policy\":{\"type\":\"object\",\"name\":\"AllLabels\",\"id\":\"p1735\"}}}],\"below\":[{\"type\":\"object\",\"name\":\"LinearAxis\",\"id\":\"p1727\",\"attributes\":{\"ticker\":{\"type\":\"object\",\"name\":\"BasicTicker\",\"id\":\"p1728\",\"attributes\":{\"mantissas\":[1,2,5]}},\"formatter\":{\"type\":\"object\",\"name\":\"BasicTickFormatter\",\"id\":\"p1729\"},\"axis_label\":\"Year\",\"major_label_policy\":{\"type\":\"object\",\"name\":\"AllLabels\",\"id\":\"p1730\"}}}],\"center\":[{\"type\":\"object\",\"name\":\"Grid\",\"id\":\"p1731\",\"attributes\":{\"axis\":{\"id\":\"p1727\"},\"grid_line_color\":null}},{\"type\":\"object\",\"name\":\"Grid\",\"id\":\"p1736\",\"attributes\":{\"dimension\":1,\"axis\":{\"id\":\"p1732\"},\"grid_line_color\":null}}],\"min_border_top\":10,\"min_border_bottom\":10,\"min_border_left\":10,\"min_border_right\":10,\"output_backend\":\"webgl\"}},{\"type\":\"object\",\"name\":\"Spacer\",\"id\":\"p1760\",\"attributes\":{\"name\":\"HSpacer02356\",\"stylesheets\":[\"\\n:host(.pn-loading):before, .pn-loading:before {\\n  background-color: #c3c3c3;\\n  mask-size: auto calc(min(50%, 400px));\\n  -webkit-mask-size: auto calc(min(50%, 400px));\\n}\",{\"id\":\"p1706\"},{\"id\":\"p1704\"},{\"id\":\"p1705\"}],\"margin\":0,\"sizing_mode\":\"stretch_width\",\"align\":\"start\"}}]}}],\"defs\":[{\"type\":\"model\",\"name\":\"ReactiveHTML1\"},{\"type\":\"model\",\"name\":\"FlexBox1\",\"properties\":[{\"name\":\"align_content\",\"kind\":\"Any\",\"default\":\"flex-start\"},{\"name\":\"align_items\",\"kind\":\"Any\",\"default\":\"flex-start\"},{\"name\":\"flex_direction\",\"kind\":\"Any\",\"default\":\"row\"},{\"name\":\"flex_wrap\",\"kind\":\"Any\",\"default\":\"wrap\"},{\"name\":\"gap\",\"kind\":\"Any\",\"default\":\"\"},{\"name\":\"justify_content\",\"kind\":\"Any\",\"default\":\"flex-start\"}]},{\"type\":\"model\",\"name\":\"FloatPanel1\",\"properties\":[{\"name\":\"config\",\"kind\":\"Any\",\"default\":{\"type\":\"map\"}},{\"name\":\"contained\",\"kind\":\"Any\",\"default\":true},{\"name\":\"position\",\"kind\":\"Any\",\"default\":\"right-top\"},{\"name\":\"offsetx\",\"kind\":\"Any\",\"default\":null},{\"name\":\"offsety\",\"kind\":\"Any\",\"default\":null},{\"name\":\"theme\",\"kind\":\"Any\",\"default\":\"primary\"},{\"name\":\"status\",\"kind\":\"Any\",\"default\":\"normalized\"}]},{\"type\":\"model\",\"name\":\"GridStack1\",\"properties\":[{\"name\":\"mode\",\"kind\":\"Any\",\"default\":\"warn\"},{\"name\":\"ncols\",\"kind\":\"Any\",\"default\":null},{\"name\":\"nrows\",\"kind\":\"Any\",\"default\":null},{\"name\":\"allow_resize\",\"kind\":\"Any\",\"default\":true},{\"name\":\"allow_drag\",\"kind\":\"Any\",\"default\":true},{\"name\":\"state\",\"kind\":\"Any\",\"default\":[]}]},{\"type\":\"model\",\"name\":\"drag1\",\"properties\":[{\"name\":\"slider_width\",\"kind\":\"Any\",\"default\":5},{\"name\":\"slider_color\",\"kind\":\"Any\",\"default\":\"black\"},{\"name\":\"value\",\"kind\":\"Any\",\"default\":50}]},{\"type\":\"model\",\"name\":\"click1\",\"properties\":[{\"name\":\"terminal_output\",\"kind\":\"Any\",\"default\":\"\"},{\"name\":\"debug_name\",\"kind\":\"Any\",\"default\":\"\"},{\"name\":\"clears\",\"kind\":\"Any\",\"default\":0}]},{\"type\":\"model\",\"name\":\"FastWrapper1\",\"properties\":[{\"name\":\"object\",\"kind\":\"Any\",\"default\":null},{\"name\":\"style\",\"kind\":\"Any\",\"default\":null}]},{\"type\":\"model\",\"name\":\"NotificationAreaBase1\",\"properties\":[{\"name\":\"js_events\",\"kind\":\"Any\",\"default\":{\"type\":\"map\"}},{\"name\":\"position\",\"kind\":\"Any\",\"default\":\"bottom-right\"},{\"name\":\"_clear\",\"kind\":\"Any\",\"default\":0}]},{\"type\":\"model\",\"name\":\"NotificationArea1\",\"properties\":[{\"name\":\"js_events\",\"kind\":\"Any\",\"default\":{\"type\":\"map\"}},{\"name\":\"notifications\",\"kind\":\"Any\",\"default\":[]},{\"name\":\"position\",\"kind\":\"Any\",\"default\":\"bottom-right\"},{\"name\":\"_clear\",\"kind\":\"Any\",\"default\":0},{\"name\":\"types\",\"kind\":\"Any\",\"default\":[{\"type\":\"map\",\"entries\":[[\"type\",\"warning\"],[\"background\",\"#ffc107\"],[\"icon\",{\"type\":\"map\",\"entries\":[[\"className\",\"fas fa-exclamation-triangle\"],[\"tagName\",\"i\"],[\"color\",\"white\"]]}]]},{\"type\":\"map\",\"entries\":[[\"type\",\"info\"],[\"background\",\"#007bff\"],[\"icon\",{\"type\":\"map\",\"entries\":[[\"className\",\"fas fa-info-circle\"],[\"tagName\",\"i\"],[\"color\",\"white\"]]}]]}]}]},{\"type\":\"model\",\"name\":\"Notification\",\"properties\":[{\"name\":\"background\",\"kind\":\"Any\",\"default\":null},{\"name\":\"duration\",\"kind\":\"Any\",\"default\":3000},{\"name\":\"icon\",\"kind\":\"Any\",\"default\":null},{\"name\":\"message\",\"kind\":\"Any\",\"default\":\"\"},{\"name\":\"notification_type\",\"kind\":\"Any\",\"default\":null},{\"name\":\"_destroyed\",\"kind\":\"Any\",\"default\":false}]},{\"type\":\"model\",\"name\":\"TemplateActions1\",\"properties\":[{\"name\":\"open_modal\",\"kind\":\"Any\",\"default\":0},{\"name\":\"close_modal\",\"kind\":\"Any\",\"default\":0}]},{\"type\":\"model\",\"name\":\"BootstrapTemplateActions1\",\"properties\":[{\"name\":\"open_modal\",\"kind\":\"Any\",\"default\":0},{\"name\":\"close_modal\",\"kind\":\"Any\",\"default\":0}]},{\"type\":\"model\",\"name\":\"TemplateEditor1\",\"properties\":[{\"name\":\"layout\",\"kind\":\"Any\",\"default\":[]}]},{\"type\":\"model\",\"name\":\"MaterialTemplateActions1\",\"properties\":[{\"name\":\"open_modal\",\"kind\":\"Any\",\"default\":0},{\"name\":\"close_modal\",\"kind\":\"Any\",\"default\":0}]},{\"type\":\"model\",\"name\":\"copy_to_clipboard1\",\"properties\":[{\"name\":\"fill\",\"kind\":\"Any\",\"default\":\"none\"},{\"name\":\"value\",\"kind\":\"Any\",\"default\":null}]}]}};\n",
       "  var render_items = [{\"docid\":\"7b98af2f-38dc-4645-9cdf-ab4a5d9d51fe\",\"roots\":{\"p1703\":\"cebd758c-6e4e-4e86-bd90-f70f65c296b9\"},\"root_ids\":[\"p1703\"]}];\n",
       "  var docs = Object.values(docs_json)\n",
       "  if (!docs) {\n",
       "    return\n",
       "  }\n",
       "  const py_version = docs[0].version.replace('rc', '-rc.').replace('.dev', '-dev.')\n",
       "  async function embed_document(root) {\n",
       "    var Bokeh = get_bokeh(root)\n",
       "    await Bokeh.embed.embed_items_notebook(docs_json, render_items);\n",
       "    for (const render_item of render_items) {\n",
       "      for (const root_id of render_item.root_ids) {\n",
       "\tconst id_el = document.getElementById(root_id)\n",
       "\tif (id_el.children.length && id_el.children[0].hasAttribute('data-root-id')) {\n",
       "\t  const root_el = id_el.children[0]\n",
       "\t  root_el.id = root_el.id + '-rendered'\n",
       "\t  for (const child of root_el.children) {\n",
       "            // Ensure JupyterLab does not capture keyboard shortcuts\n",
       "            // see: https://jupyterlab.readthedocs.io/en/4.1.x/extension/notebook.html#keyboard-interaction-model\n",
       "\t    child.setAttribute('data-lm-suppress-shortcuts', 'true')\n",
       "\t  }\n",
       "\t}\n",
       "      }\n",
       "    }\n",
       "  }\n",
       "  function get_bokeh(root) {\n",
       "    if (root.Bokeh === undefined) {\n",
       "      return null\n",
       "    } else if (root.Bokeh.version !== py_version) {\n",
       "      if (root.Bokeh.versions === undefined || !root.Bokeh.versions.has(py_version)) {\n",
       "\treturn null\n",
       "      }\n",
       "      return root.Bokeh.versions.get(py_version);\n",
       "    } else if (root.Bokeh.version === py_version) {\n",
       "      return root.Bokeh\n",
       "    }\n",
       "    return null\n",
       "  }\n",
       "  function is_loaded(root) {\n",
       "    var Bokeh = get_bokeh(root)\n",
       "    return (Bokeh != null && Bokeh.Panel !== undefined)\n",
       "  }\n",
       "  if (is_loaded(root)) {\n",
       "    embed_document(root);\n",
       "  } else {\n",
       "    var attempts = 0;\n",
       "    var timer = setInterval(function(root) {\n",
       "      if (is_loaded(root)) {\n",
       "        clearInterval(timer);\n",
       "        embed_document(root);\n",
       "      } else if (document.readyState == \"complete\") {\n",
       "        attempts++;\n",
       "        if (attempts > 200) {\n",
       "          clearInterval(timer);\n",
       "\t  var Bokeh = get_bokeh(root)\n",
       "\t  if (Bokeh == null || Bokeh.Panel == null) {\n",
       "            console.warn(\"Panel: ERROR: Unable to run Panel code because Bokeh or Panel library is missing\");\n",
       "\t  } else {\n",
       "\t    console.warn(\"Panel: WARNING: Attempting to render but not all required libraries could be resolved.\")\n",
       "\t    embed_document(root)\n",
       "\t  }\n",
       "        }\n",
       "      }\n",
       "    }, 25, root)\n",
       "  }\n",
       "})(window);</script>"
      ],
      "text/plain": [
       ":Bars   [Year]   (count_titles)"
      ]
     },
     "execution_count": 30,
     "metadata": {
      "application/vnd.holoviews_exec.v0+json": {
       "id": "p1703"
      }
     },
     "output_type": "execute_result"
    }
   ],
   "source": [
    "df_polars_p = df_polars_t.group_by(pl.col(\"Year\")).agg(pl.col(\"Title\").count().alias(\"count_titles\")).sort(\"Year\", descending=True)\n",
    "\n",
    "df_polars_p_bar = df_polars_p.plot.bar(\n",
    "    x=\"Year\",\n",
    "    y=\"count_titles\",\n",
    "    width=500,\n",
    ")\n",
    "\n",
    "df_polars_p_bar"
   ]
  },
  {
   "cell_type": "code",
   "execution_count": 31,
   "metadata": {},
   "outputs": [
    {
     "data": {},
     "metadata": {},
     "output_type": "display_data"
    },
    {
     "data": {
      "application/vnd.holoviews_exec.v0+json": "",
      "text/html": [
       "<div id='p1766'>\n",
       "  <div id=\"d5ce739a-bbd8-4620-bdb4-c2a0b2c9de40\" data-root-id=\"p1766\" style=\"display: contents;\"></div>\n",
       "</div>\n",
       "<script type=\"application/javascript\">(function(root) {\n",
       "  var docs_json = {\"f242fd97-57f6-430e-94f1-88f0ce5d53bf\":{\"version\":\"3.4.1\",\"title\":\"Bokeh Application\",\"roots\":[{\"type\":\"object\",\"name\":\"Row\",\"id\":\"p1766\",\"attributes\":{\"name\":\"Row02457\",\"tags\":[\"embedded\"],\"stylesheets\":[\"\\n:host(.pn-loading):before, .pn-loading:before {\\n  background-color: #c3c3c3;\\n  mask-size: auto calc(min(50%, 400px));\\n  -webkit-mask-size: auto calc(min(50%, 400px));\\n}\",{\"type\":\"object\",\"name\":\"ImportedStyleSheet\",\"id\":\"p1769\",\"attributes\":{\"url\":\"https://cdn.holoviz.org/panel/1.4.4/dist/css/loading.css\"}},{\"type\":\"object\",\"name\":\"ImportedStyleSheet\",\"id\":\"p1825\",\"attributes\":{\"url\":\"https://cdn.holoviz.org/panel/1.4.4/dist/css/listpanel.css\"}},{\"type\":\"object\",\"name\":\"ImportedStyleSheet\",\"id\":\"p1767\",\"attributes\":{\"url\":\"https://cdn.holoviz.org/panel/1.4.4/dist/bundled/theme/default.css\"}},{\"type\":\"object\",\"name\":\"ImportedStyleSheet\",\"id\":\"p1768\",\"attributes\":{\"url\":\"https://cdn.holoviz.org/panel/1.4.4/dist/bundled/theme/native.css\"}}],\"min_width\":620,\"margin\":0,\"sizing_mode\":\"stretch_width\",\"align\":\"start\",\"children\":[{\"type\":\"object\",\"name\":\"Spacer\",\"id\":\"p1770\",\"attributes\":{\"name\":\"HSpacer02464\",\"stylesheets\":[\"\\n:host(.pn-loading):before, .pn-loading:before {\\n  background-color: #c3c3c3;\\n  mask-size: auto calc(min(50%, 400px));\\n  -webkit-mask-size: auto calc(min(50%, 400px));\\n}\",{\"id\":\"p1769\"},{\"id\":\"p1767\"},{\"id\":\"p1768\"}],\"margin\":0,\"sizing_mode\":\"stretch_width\",\"align\":\"start\"}},{\"type\":\"object\",\"name\":\"Figure\",\"id\":\"p1778\",\"attributes\":{\"width\":620,\"height\":500,\"margin\":[5,10],\"sizing_mode\":\"fixed\",\"align\":\"start\",\"x_range\":{\"type\":\"object\",\"name\":\"Range1d\",\"id\":\"p1771\",\"attributes\":{\"tags\":[[[\"Year\",null]],[]],\"start\":2015.0,\"end\":2024.0,\"reset_start\":2015.0,\"reset_end\":2024.0}},\"y_range\":{\"type\":\"object\",\"name\":\"Range1d\",\"id\":\"p1772\",\"attributes\":{\"tags\":[[[\"count_titles\",null]],{\"type\":\"map\",\"entries\":[[\"invert_yaxis\",false],[\"autorange\",false]]}],\"start\":3.5,\"end\":21.5,\"reset_start\":3.5,\"reset_end\":21.5}},\"x_scale\":{\"type\":\"object\",\"name\":\"LinearScale\",\"id\":\"p1788\"},\"y_scale\":{\"type\":\"object\",\"name\":\"LinearScale\",\"id\":\"p1789\"},\"title\":{\"type\":\"object\",\"name\":\"Title\",\"id\":\"p1781\",\"attributes\":{\"text_color\":\"black\",\"text_font_size\":\"12pt\"}},\"renderers\":[{\"type\":\"object\",\"name\":\"GlyphRenderer\",\"id\":\"p1818\",\"attributes\":{\"data_source\":{\"type\":\"object\",\"name\":\"ColumnDataSource\",\"id\":\"p1809\",\"attributes\":{\"selected\":{\"type\":\"object\",\"name\":\"Selection\",\"id\":\"p1810\",\"attributes\":{\"indices\":[],\"line_indices\":[]}},\"selection_policy\":{\"type\":\"object\",\"name\":\"UnionRenderers\",\"id\":\"p1811\"},\"data\":{\"type\":\"map\",\"entries\":[[\"Year\",{\"type\":\"ndarray\",\"array\":{\"type\":\"bytes\",\"data\":\"6AcAAOcHAADmBwAA5QcAAOQHAADjBwAA4gcAAOEHAADgBwAA3wcAAA==\"},\"shape\":[10],\"dtype\":\"int32\",\"order\":\"little\"}],[\"count_titles\",{\"type\":\"ndarray\",\"array\":{\"type\":\"bytes\",\"data\":\"BQAAAAoAAAAFAAAACwAAAAcAAAAKAAAADAAAAA0AAAAUAAAACAAAAA==\"},\"shape\":[10],\"dtype\":\"uint32\",\"order\":\"little\"}]]}}},\"view\":{\"type\":\"object\",\"name\":\"CDSView\",\"id\":\"p1819\",\"attributes\":{\"filter\":{\"type\":\"object\",\"name\":\"AllIndices\",\"id\":\"p1820\"}}},\"glyph\":{\"type\":\"object\",\"name\":\"Line\",\"id\":\"p1815\",\"attributes\":{\"tags\":[\"apply_ranges\"],\"x\":{\"type\":\"field\",\"field\":\"Year\"},\"y\":{\"type\":\"field\",\"field\":\"count_titles\"},\"line_color\":\"#30a2da\",\"line_width\":2}},\"selection_glyph\":{\"type\":\"object\",\"name\":\"Line\",\"id\":\"p1821\",\"attributes\":{\"tags\":[\"apply_ranges\"],\"x\":{\"type\":\"field\",\"field\":\"Year\"},\"y\":{\"type\":\"field\",\"field\":\"count_titles\"},\"line_color\":\"#30a2da\",\"line_width\":2}},\"nonselection_glyph\":{\"type\":\"object\",\"name\":\"Line\",\"id\":\"p1816\",\"attributes\":{\"tags\":[\"apply_ranges\"],\"x\":{\"type\":\"field\",\"field\":\"Year\"},\"y\":{\"type\":\"field\",\"field\":\"count_titles\"},\"line_color\":\"#30a2da\",\"line_alpha\":0.1,\"line_width\":2}},\"muted_glyph\":{\"type\":\"object\",\"name\":\"Line\",\"id\":\"p1817\",\"attributes\":{\"tags\":[\"apply_ranges\"],\"x\":{\"type\":\"field\",\"field\":\"Year\"},\"y\":{\"type\":\"field\",\"field\":\"count_titles\"},\"line_color\":\"#30a2da\",\"line_alpha\":0.2,\"line_width\":2}}}}],\"toolbar\":{\"type\":\"object\",\"name\":\"Toolbar\",\"id\":\"p1787\",\"attributes\":{\"tools\":[{\"type\":\"object\",\"name\":\"WheelZoomTool\",\"id\":\"p1776\",\"attributes\":{\"tags\":[\"hv_created\"],\"renderers\":\"auto\",\"zoom_together\":\"none\"}},{\"type\":\"object\",\"name\":\"HoverTool\",\"id\":\"p1777\",\"attributes\":{\"tags\":[\"hv_created\"],\"renderers\":[{\"id\":\"p1818\"}],\"tooltips\":[[\"Year\",\"@{Year}\"],[\"count_titles\",\"@{count_titles}\"]]}},{\"type\":\"object\",\"name\":\"SaveTool\",\"id\":\"p1800\"},{\"type\":\"object\",\"name\":\"PanTool\",\"id\":\"p1801\"},{\"type\":\"object\",\"name\":\"BoxZoomTool\",\"id\":\"p1802\",\"attributes\":{\"overlay\":{\"type\":\"object\",\"name\":\"BoxAnnotation\",\"id\":\"p1803\",\"attributes\":{\"syncable\":false,\"level\":\"overlay\",\"visible\":false,\"left\":{\"type\":\"number\",\"value\":\"nan\"},\"right\":{\"type\":\"number\",\"value\":\"nan\"},\"top\":{\"type\":\"number\",\"value\":\"nan\"},\"bottom\":{\"type\":\"number\",\"value\":\"nan\"},\"left_units\":\"canvas\",\"right_units\":\"canvas\",\"top_units\":\"canvas\",\"bottom_units\":\"canvas\",\"line_color\":\"black\",\"line_alpha\":1.0,\"line_width\":2,\"line_dash\":[4,4],\"fill_color\":\"lightgrey\",\"fill_alpha\":0.5}}}},{\"type\":\"object\",\"name\":\"ResetTool\",\"id\":\"p1808\"}],\"active_drag\":{\"id\":\"p1801\"},\"active_scroll\":{\"id\":\"p1776\"}}},\"left\":[{\"type\":\"object\",\"name\":\"LinearAxis\",\"id\":\"p1795\",\"attributes\":{\"ticker\":{\"type\":\"object\",\"name\":\"BasicTicker\",\"id\":\"p1796\",\"attributes\":{\"mantissas\":[1,2,5]}},\"formatter\":{\"type\":\"object\",\"name\":\"BasicTickFormatter\",\"id\":\"p1797\"},\"axis_label\":\"count_titles\",\"major_label_policy\":{\"type\":\"object\",\"name\":\"AllLabels\",\"id\":\"p1798\"}}}],\"below\":[{\"type\":\"object\",\"name\":\"LinearAxis\",\"id\":\"p1790\",\"attributes\":{\"ticker\":{\"type\":\"object\",\"name\":\"BasicTicker\",\"id\":\"p1791\",\"attributes\":{\"mantissas\":[1,2,5]}},\"formatter\":{\"type\":\"object\",\"name\":\"BasicTickFormatter\",\"id\":\"p1792\"},\"axis_label\":\"Year\",\"major_label_policy\":{\"type\":\"object\",\"name\":\"AllLabels\",\"id\":\"p1793\"}}}],\"center\":[{\"type\":\"object\",\"name\":\"Grid\",\"id\":\"p1794\",\"attributes\":{\"axis\":{\"id\":\"p1790\"},\"grid_line_color\":null}},{\"type\":\"object\",\"name\":\"Grid\",\"id\":\"p1799\",\"attributes\":{\"dimension\":1,\"axis\":{\"id\":\"p1795\"},\"grid_line_color\":null}}],\"min_border_top\":10,\"min_border_bottom\":10,\"min_border_left\":10,\"min_border_right\":10,\"output_backend\":\"webgl\"}},{\"type\":\"object\",\"name\":\"Spacer\",\"id\":\"p1823\",\"attributes\":{\"name\":\"HSpacer02465\",\"stylesheets\":[\"\\n:host(.pn-loading):before, .pn-loading:before {\\n  background-color: #c3c3c3;\\n  mask-size: auto calc(min(50%, 400px));\\n  -webkit-mask-size: auto calc(min(50%, 400px));\\n}\",{\"id\":\"p1769\"},{\"id\":\"p1767\"},{\"id\":\"p1768\"}],\"margin\":0,\"sizing_mode\":\"stretch_width\",\"align\":\"start\"}}]}}],\"defs\":[{\"type\":\"model\",\"name\":\"ReactiveHTML1\"},{\"type\":\"model\",\"name\":\"FlexBox1\",\"properties\":[{\"name\":\"align_content\",\"kind\":\"Any\",\"default\":\"flex-start\"},{\"name\":\"align_items\",\"kind\":\"Any\",\"default\":\"flex-start\"},{\"name\":\"flex_direction\",\"kind\":\"Any\",\"default\":\"row\"},{\"name\":\"flex_wrap\",\"kind\":\"Any\",\"default\":\"wrap\"},{\"name\":\"gap\",\"kind\":\"Any\",\"default\":\"\"},{\"name\":\"justify_content\",\"kind\":\"Any\",\"default\":\"flex-start\"}]},{\"type\":\"model\",\"name\":\"FloatPanel1\",\"properties\":[{\"name\":\"config\",\"kind\":\"Any\",\"default\":{\"type\":\"map\"}},{\"name\":\"contained\",\"kind\":\"Any\",\"default\":true},{\"name\":\"position\",\"kind\":\"Any\",\"default\":\"right-top\"},{\"name\":\"offsetx\",\"kind\":\"Any\",\"default\":null},{\"name\":\"offsety\",\"kind\":\"Any\",\"default\":null},{\"name\":\"theme\",\"kind\":\"Any\",\"default\":\"primary\"},{\"name\":\"status\",\"kind\":\"Any\",\"default\":\"normalized\"}]},{\"type\":\"model\",\"name\":\"GridStack1\",\"properties\":[{\"name\":\"mode\",\"kind\":\"Any\",\"default\":\"warn\"},{\"name\":\"ncols\",\"kind\":\"Any\",\"default\":null},{\"name\":\"nrows\",\"kind\":\"Any\",\"default\":null},{\"name\":\"allow_resize\",\"kind\":\"Any\",\"default\":true},{\"name\":\"allow_drag\",\"kind\":\"Any\",\"default\":true},{\"name\":\"state\",\"kind\":\"Any\",\"default\":[]}]},{\"type\":\"model\",\"name\":\"drag1\",\"properties\":[{\"name\":\"slider_width\",\"kind\":\"Any\",\"default\":5},{\"name\":\"slider_color\",\"kind\":\"Any\",\"default\":\"black\"},{\"name\":\"value\",\"kind\":\"Any\",\"default\":50}]},{\"type\":\"model\",\"name\":\"click1\",\"properties\":[{\"name\":\"terminal_output\",\"kind\":\"Any\",\"default\":\"\"},{\"name\":\"debug_name\",\"kind\":\"Any\",\"default\":\"\"},{\"name\":\"clears\",\"kind\":\"Any\",\"default\":0}]},{\"type\":\"model\",\"name\":\"FastWrapper1\",\"properties\":[{\"name\":\"object\",\"kind\":\"Any\",\"default\":null},{\"name\":\"style\",\"kind\":\"Any\",\"default\":null}]},{\"type\":\"model\",\"name\":\"NotificationAreaBase1\",\"properties\":[{\"name\":\"js_events\",\"kind\":\"Any\",\"default\":{\"type\":\"map\"}},{\"name\":\"position\",\"kind\":\"Any\",\"default\":\"bottom-right\"},{\"name\":\"_clear\",\"kind\":\"Any\",\"default\":0}]},{\"type\":\"model\",\"name\":\"NotificationArea1\",\"properties\":[{\"name\":\"js_events\",\"kind\":\"Any\",\"default\":{\"type\":\"map\"}},{\"name\":\"notifications\",\"kind\":\"Any\",\"default\":[]},{\"name\":\"position\",\"kind\":\"Any\",\"default\":\"bottom-right\"},{\"name\":\"_clear\",\"kind\":\"Any\",\"default\":0},{\"name\":\"types\",\"kind\":\"Any\",\"default\":[{\"type\":\"map\",\"entries\":[[\"type\",\"warning\"],[\"background\",\"#ffc107\"],[\"icon\",{\"type\":\"map\",\"entries\":[[\"className\",\"fas fa-exclamation-triangle\"],[\"tagName\",\"i\"],[\"color\",\"white\"]]}]]},{\"type\":\"map\",\"entries\":[[\"type\",\"info\"],[\"background\",\"#007bff\"],[\"icon\",{\"type\":\"map\",\"entries\":[[\"className\",\"fas fa-info-circle\"],[\"tagName\",\"i\"],[\"color\",\"white\"]]}]]}]}]},{\"type\":\"model\",\"name\":\"Notification\",\"properties\":[{\"name\":\"background\",\"kind\":\"Any\",\"default\":null},{\"name\":\"duration\",\"kind\":\"Any\",\"default\":3000},{\"name\":\"icon\",\"kind\":\"Any\",\"default\":null},{\"name\":\"message\",\"kind\":\"Any\",\"default\":\"\"},{\"name\":\"notification_type\",\"kind\":\"Any\",\"default\":null},{\"name\":\"_destroyed\",\"kind\":\"Any\",\"default\":false}]},{\"type\":\"model\",\"name\":\"TemplateActions1\",\"properties\":[{\"name\":\"open_modal\",\"kind\":\"Any\",\"default\":0},{\"name\":\"close_modal\",\"kind\":\"Any\",\"default\":0}]},{\"type\":\"model\",\"name\":\"BootstrapTemplateActions1\",\"properties\":[{\"name\":\"open_modal\",\"kind\":\"Any\",\"default\":0},{\"name\":\"close_modal\",\"kind\":\"Any\",\"default\":0}]},{\"type\":\"model\",\"name\":\"TemplateEditor1\",\"properties\":[{\"name\":\"layout\",\"kind\":\"Any\",\"default\":[]}]},{\"type\":\"model\",\"name\":\"MaterialTemplateActions1\",\"properties\":[{\"name\":\"open_modal\",\"kind\":\"Any\",\"default\":0},{\"name\":\"close_modal\",\"kind\":\"Any\",\"default\":0}]},{\"type\":\"model\",\"name\":\"copy_to_clipboard1\",\"properties\":[{\"name\":\"fill\",\"kind\":\"Any\",\"default\":\"none\"},{\"name\":\"value\",\"kind\":\"Any\",\"default\":null}]}]}};\n",
       "  var render_items = [{\"docid\":\"f242fd97-57f6-430e-94f1-88f0ce5d53bf\",\"roots\":{\"p1766\":\"d5ce739a-bbd8-4620-bdb4-c2a0b2c9de40\"},\"root_ids\":[\"p1766\"]}];\n",
       "  var docs = Object.values(docs_json)\n",
       "  if (!docs) {\n",
       "    return\n",
       "  }\n",
       "  const py_version = docs[0].version.replace('rc', '-rc.').replace('.dev', '-dev.')\n",
       "  async function embed_document(root) {\n",
       "    var Bokeh = get_bokeh(root)\n",
       "    await Bokeh.embed.embed_items_notebook(docs_json, render_items);\n",
       "    for (const render_item of render_items) {\n",
       "      for (const root_id of render_item.root_ids) {\n",
       "\tconst id_el = document.getElementById(root_id)\n",
       "\tif (id_el.children.length && id_el.children[0].hasAttribute('data-root-id')) {\n",
       "\t  const root_el = id_el.children[0]\n",
       "\t  root_el.id = root_el.id + '-rendered'\n",
       "\t  for (const child of root_el.children) {\n",
       "            // Ensure JupyterLab does not capture keyboard shortcuts\n",
       "            // see: https://jupyterlab.readthedocs.io/en/4.1.x/extension/notebook.html#keyboard-interaction-model\n",
       "\t    child.setAttribute('data-lm-suppress-shortcuts', 'true')\n",
       "\t  }\n",
       "\t}\n",
       "      }\n",
       "    }\n",
       "  }\n",
       "  function get_bokeh(root) {\n",
       "    if (root.Bokeh === undefined) {\n",
       "      return null\n",
       "    } else if (root.Bokeh.version !== py_version) {\n",
       "      if (root.Bokeh.versions === undefined || !root.Bokeh.versions.has(py_version)) {\n",
       "\treturn null\n",
       "      }\n",
       "      return root.Bokeh.versions.get(py_version);\n",
       "    } else if (root.Bokeh.version === py_version) {\n",
       "      return root.Bokeh\n",
       "    }\n",
       "    return null\n",
       "  }\n",
       "  function is_loaded(root) {\n",
       "    var Bokeh = get_bokeh(root)\n",
       "    return (Bokeh != null && Bokeh.Panel !== undefined)\n",
       "  }\n",
       "  if (is_loaded(root)) {\n",
       "    embed_document(root);\n",
       "  } else {\n",
       "    var attempts = 0;\n",
       "    var timer = setInterval(function(root) {\n",
       "      if (is_loaded(root)) {\n",
       "        clearInterval(timer);\n",
       "        embed_document(root);\n",
       "      } else if (document.readyState == \"complete\") {\n",
       "        attempts++;\n",
       "        if (attempts > 200) {\n",
       "          clearInterval(timer);\n",
       "\t  var Bokeh = get_bokeh(root)\n",
       "\t  if (Bokeh == null || Bokeh.Panel == null) {\n",
       "            console.warn(\"Panel: ERROR: Unable to run Panel code because Bokeh or Panel library is missing\");\n",
       "\t  } else {\n",
       "\t    console.warn(\"Panel: WARNING: Attempting to render but not all required libraries could be resolved.\")\n",
       "\t    embed_document(root)\n",
       "\t  }\n",
       "        }\n",
       "      }\n",
       "    }, 25, root)\n",
       "  }\n",
       "})(window);</script>"
      ],
      "text/plain": [
       ":Curve   [Year]   (count_titles)"
      ]
     },
     "execution_count": 31,
     "metadata": {
      "application/vnd.holoviews_exec.v0+json": {
       "id": "p1766"
      }
     },
     "output_type": "execute_result"
    }
   ],
   "source": [
    "df_polars_p_line = df_polars_p.plot.line(x='Year', y=['count_titles'], \n",
    "                value_label='# Titles per Year', legend='top', height=500, width=620)\n",
    "\n",
    "df_polars_p_line"
   ]
  }
 ],
 "metadata": {
  "kernelspec": {
   "display_name": "Python 3",
   "language": "python",
   "name": "python3"
  },
  "language_info": {
   "codemirror_mode": {
    "name": "ipython",
    "version": 3
   },
   "file_extension": ".py",
   "mimetype": "text/x-python",
   "name": "python",
   "nbconvert_exporter": "python",
   "pygments_lexer": "ipython3",
   "version": "3.12.0"
  }
 },
 "nbformat": 4,
 "nbformat_minor": 2
}
